{
 "cells": [
  {
   "cell_type": "markdown",
   "id": "f8ef236c-8fb6-4b07-a7ec-49dff1693e6a",
   "metadata": {},
   "source": [
    "# Data Science Tools and Ecosystem"
   ]
  },
  {
   "cell_type": "markdown",
   "id": "81651816-8e3e-40df-9189-0645c0905e9c",
   "metadata": {},
   "source": [
    "In this notebook, Data Science Tools and Ecosystem are summarized."
   ]
  },
  {
   "cell_type": "markdown",
   "id": "7039fb43-6b54-42b9-8376-a954187ca46b",
   "metadata": {},
   "source": [
    "Some of the popular languages that Data Scientists use are:\n",
    "1. python\n",
    "2. R\n",
    "3. stata"
   ]
  },
  {
   "cell_type": "markdown",
   "id": "98e7737e-208e-4893-96af-d5d97fd1f01d",
   "metadata": {},
   "source": [
    "Some of the commonly used libraries used by Data Scientists include:\n",
    "1. ggplot\n",
    "2. plotly\n",
    "3. numpy"
   ]
  },
  {
   "cell_type": "markdown",
   "id": "dab0f579-8e7a-4e78-940c-11693e4c5868",
   "metadata": {},
   "source": [
    "| Data Science Tools|\n",
    "| -------------|\n",
    "| R | \n",
    "| Python | \n",
    "| SQL |"
   ]
  },
  {
   "cell_type": "markdown",
   "id": "3a876ffb-6ca5-4741-bf14-5c136973c426",
   "metadata": {},
   "source": [
    "### Below are a few examples of evaluating arithmetic expressions in Python"
   ]
  },
  {
   "cell_type": "code",
   "execution_count": 3,
   "id": "aa78e9e4-5b2d-42cd-bbe0-8c3eb2b512f6",
   "metadata": {},
   "outputs": [
    {
     "data": {
      "text/plain": [
       "17"
      ]
     },
     "execution_count": 3,
     "metadata": {},
     "output_type": "execute_result"
    }
   ],
   "source": [
    "#This a simple arithmetic expression to mutiply then add integers\n",
    "(3*4)+5\n"
   ]
  },
  {
   "cell_type": "code",
   "execution_count": 4,
   "id": "51d46997-3ce7-4626-807b-6c901dc18732",
   "metadata": {},
   "outputs": [
    {
     "data": {
      "text/plain": [
       "3.3333333333333335"
      ]
     },
     "execution_count": 4,
     "metadata": {},
     "output_type": "execute_result"
    }
   ],
   "source": [
    "#This will convert 200 minutes to hours by diving by 60\n",
    "200/60"
   ]
  },
  {
   "cell_type": "markdown",
   "id": "ed9e4188-e0e2-432c-949c-6f18720f3a95",
   "metadata": {},
   "source": [
    "**Objectives:**\n",
    "\n",
    "- Create a Jupyter Notebook\n",
    "- List Data Science languages\n",
    "- Multiply and add numbers\n",
    "- Convert minutes to hours"
   ]
  },
  {
   "cell_type": "markdown",
   "id": "c62b2e13-9df6-4263-8dc9-416d12032961",
   "metadata": {},
   "source": [
    "## Author\n",
    "vamsi k"
   ]
  },
  {
   "cell_type": "code",
   "execution_count": null,
   "id": "aec2b708-7aa3-417f-aea1-d4dc7c431ed0",
   "metadata": {},
   "outputs": [],
   "source": []
  }
 ],
 "metadata": {
  "kernelspec": {
   "display_name": "Python 3 (ipykernel)",
   "language": "python",
   "name": "python3"
  },
  "language_info": {
   "codemirror_mode": {
    "name": "ipython",
    "version": 3
   },
   "file_extension": ".py",
   "mimetype": "text/x-python",
   "name": "python",
   "nbconvert_exporter": "python",
   "pygments_lexer": "ipython3",
   "version": "3.11.9"
  }
 },
 "nbformat": 4,
 "nbformat_minor": 5
}
